{
 "cells": [
  {
   "cell_type": "code",
   "execution_count": 2,
   "metadata": {},
   "outputs": [
    {
     "name": "stdout",
     "output_type": "stream",
     "text": [
      "/home/robers/projects/TimeXer\n"
     ]
    }
   ],
   "source": [
    "import sys\n",
    "import os\n",
    "# Get the current working directory\n",
    "current_directory = os.getcwd()\n",
    "parent_directory = os.path.dirname(current_directory)\n",
    "print(parent_directory)\n",
    "\n",
    "# Add the parent directory to sys.path\n",
    "sys.path.append(parent_directory)\n",
    "os.chdir(parent_directory)\n",
    "%load_ext autoreload\n",
    "%autoreload 2\n",
    "\n"
   ]
  },
  {
   "cell_type": "code",
   "execution_count": 3,
   "metadata": {},
   "outputs": [],
   "source": [
    "from utils.database import connectionSQL\n",
    "import pandas as pd\n",
    "\n",
    "engine = connectionSQL(\"PROMART_PRD\", 'cfg/secrets.yaml')\n",
    "\n",
    "query = \"\"\"\n",
    "SELECT DISTINCT [Type_query]\n",
    "FROM [PROMART_PRD].[dbo].[t_ML_meteoswiss_weather_forecast];\"\"\"\n",
    "\n",
    "m_suisse_types = pd.read_sql_query(query, con=engine)\n",
    "\n",
    "query = \"\"\"\n",
    "SELECT DISTINCT [Type_query]\n",
    "FROM [PROMART_PRD].[dbo].[t_ML_weather_data];\"\"\"\n",
    "\n",
    "weather_data_types = pd.read_sql_query(query, con=engine)"
   ]
  },
  {
   "cell_type": "code",
   "execution_count": 6,
   "metadata": {},
   "outputs": [],
   "source": [
    "# print(m_suisse_types['Type_query'])\n",
    "# print(weather_data_types['Type_query'])\n",
    "m_suisse_type = 'icon_ch2_0'\n",
    "weather_data_type = 'matics-mos-flex'"
   ]
  },
  {
   "cell_type": "code",
   "execution_count": 15,
   "metadata": {},
   "outputs": [],
   "source": [
    "Abbreviation = 'ABO'\n",
    "start_date = '2024-01-01'\n",
    "end_date = '2024-01-31'\n",
    "\n",
    "query = f\"\"\"\n",
    "SELECT [id]\n",
    "      ,[Abbreviation]\n",
    "      ,[Delivery_date]\n",
    "      ,[Issue_date]\n",
    "      ,[Type_query]\n",
    "      ,[rain {{mm/h}}]\n",
    "      ,[temperature {{Celsius}}]\n",
    "      ,[relative humidity{{%}}]\n",
    "      ,[radiation globale {{W/m2}}]\n",
    "  FROM [PROMART_PRD].[dbo].[t_ML_weather_data]\n",
    "  WHERE [Type_query] = '{weather_data_type}' AND [Abbreviation] = '{Abbreviation}' AND [Delivery_date] BETWEEN '{start_date}' AND '{end_date}'\n",
    "\"\"\"\n",
    "\n",
    "df = pd.read_sql_query(query, con=engine)"
   ]
  },
  {
   "cell_type": "code",
   "execution_count": 23,
   "metadata": {},
   "outputs": [
    {
     "name": "stdout",
     "output_type": "stream",
     "text": [
      "34201\n",
      "2881\n",
      "11\n",
      "13\n"
     ]
    }
   ],
   "source": [
    "print(len(df))\n",
    "print(len(df['Delivery_date'].unique()))\n",
    "print(len(df)//len(df['Delivery_date'].unique()))\n",
    "\n",
    "df_2024_01_01 = df[df['Delivery_date'] == '2024-01-01']\n",
    "print(len(df_2024_01_01))\n"
   ]
  },
  {
   "cell_type": "code",
   "execution_count": 24,
   "metadata": {},
   "outputs": [
    {
     "data": {
      "text/plain": [
       "Index(['id', 'Abbreviation', 'Delivery_date', 'Issue_date', 'Type_query',\n",
       "       'rain {mm/h}', 'temperature {Celsius}', 'relative humidity{%}',\n",
       "       'radiation globale {W/m2}'],\n",
       "      dtype='object')"
      ]
     },
     "execution_count": 24,
     "metadata": {},
     "output_type": "execute_result"
    }
   ],
   "source": [
    "df.columns"
   ]
  },
  {
   "cell_type": "code",
   "execution_count": null,
   "metadata": {},
   "outputs": [
    {
     "name": "stdout",
     "output_type": "stream",
     "text": [
      "2881 73\n",
      "2881 61\n"
     ]
    }
   ],
   "source": [
    "# endogenous variables: load from gb \n",
    "# exogenous variables: temperature, rain, radiation, calendar_date, day_of_week, is_holiday\n",
    "\n",
    "from utils.dataset import remove_duplicates_keep_latest\n",
    "print(len(df['Delivery_date'].unique()), len(df['Issue_date'].unique()))\n",
    "df_unique = remove_duplicates_keep_latest(df, group_cols=['Abbreviation', 'Delivery_date'], sort_col='Issue_date')\n",
    "print(len(df_unique['Delivery_date'].unique()), len(df_unique['Issue_date'].unique()))"
   ]
  },
  {
   "cell_type": "code",
   "execution_count": null,
   "metadata": {},
   "outputs": [],
   "source": [
    "# laod "
   ]
  }
 ],
 "metadata": {
  "kernelspec": {
   "display_name": "venv_TimeXer",
   "language": "python",
   "name": "python3"
  },
  "language_info": {
   "codemirror_mode": {
    "name": "ipython",
    "version": 3
   },
   "file_extension": ".py",
   "mimetype": "text/x-python",
   "name": "python",
   "nbconvert_exporter": "python",
   "pygments_lexer": "ipython3",
   "version": "3.10.12"
  }
 },
 "nbformat": 4,
 "nbformat_minor": 2
}
