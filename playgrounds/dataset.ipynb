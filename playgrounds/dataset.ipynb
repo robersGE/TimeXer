{
 "cells": [
  {
   "cell_type": "code",
   "execution_count": 1,
   "metadata": {},
   "outputs": [
    {
     "name": "stdout",
     "output_type": "stream",
     "text": [
      "/home/robers/projects/TimeXer\n"
     ]
    }
   ],
   "source": [
    "import sys\n",
    "import os\n",
    "\n",
    "# Get the current working directory\n",
    "current_directory = os.getcwd()\n",
    "parent_directory = os.path.dirname(current_directory)\n",
    "print(parent_directory)\n",
    "\n",
    "if 'TimeXer' in parent_directory:\n",
    "    # Add the parent directory to sys.path\n",
    "    sys.path.append(parent_directory)\n",
    "    os.chdir(parent_directory)\n",
    "%load_ext autoreload\n",
    "%autoreload 2\n",
    "\n"
   ]
  },
  {
   "cell_type": "code",
   "execution_count": 2,
   "metadata": {},
   "outputs": [],
   "source": [
    "from utils.database import connectionSQL\n",
    "import pandas as pd\n",
    "\n",
    "engine = connectionSQL(\"PROMART_PRD\", 'cfg/secrets.yaml')\n",
    "\n",
    "# query = \"\"\"\n",
    "# SELECT DISTINCT [Type_query]\n",
    "# FROM [PROMART_PRD].[dbo].[t_ML_meteoswiss_weather_forecast];\"\"\"\n",
    "\n",
    "# m_suisse_types = pd.read_sql_query(query, con=engine)\n",
    "\n",
    "# query = \"\"\"\n",
    "# SELECT DISTINCT [Type_query]\n",
    "# FROM [PROMART_PRD].[dbo].[t_ML_weather_data];\"\"\"\n",
    "\n",
    "# weather_data_types = pd.read_sql_query(query, con=engine)"
   ]
  },
  {
   "cell_type": "code",
   "execution_count": 3,
   "metadata": {},
   "outputs": [],
   "source": [
    "# print(m_suisse_types['Type_query'])\n",
    "# print(weather_data_types['Type_query'])\n",
    "m_suisse_type = 'icon_ch2_0'\n",
    "weather_data_type = 'matics-mos-flex'"
   ]
  },
  {
   "cell_type": "code",
   "execution_count": 5,
   "metadata": {},
   "outputs": [
    {
     "name": "stdout",
     "output_type": "stream",
     "text": [
      "68357\n"
     ]
    }
   ],
   "source": [
    "Abbreviations = ['ABO', 'PAY']\n",
    "start_date = '2024-01-01'\n",
    "end_date = '2024-01-31'\n",
    "\n",
    "# Convert the list of abbreviations into a SQL-compatible string\n",
    "abbreviation_list = \"', '\".join(Abbreviations)\n",
    "\n",
    "query = f\"\"\"\n",
    "SELECT\n",
    "      [Abbreviation],\n",
    "      [Delivery_date],\n",
    "      [Issue_date],\n",
    "      [Type_query],\n",
    "      [rain {{mm/h}}],\n",
    "      [temperature {{Celsius}}],\n",
    "      [relative humidity{{%}}],\n",
    "      [radiation globale {{W/m2}}]\n",
    "  FROM [PROMART_PRD].[dbo].[t_ML_weather_data]\n",
    "  WHERE [Type_query] = '{weather_data_type}' \n",
    "    AND [Abbreviation] IN ('{abbreviation_list}')\n",
    "    AND [Delivery_date] BETWEEN '{start_date}' AND '{end_date}'\n",
    "\"\"\"\n",
    "\n",
    "# Execute the query and load the results into a DataFrame\n",
    "df = pd.read_sql_query(query, con=engine)\n",
    "df.drop('Type_query', axis=1, inplace=True)\n",
    "print(len(df))\n"
   ]
  },
  {
   "cell_type": "code",
   "execution_count": 6,
   "metadata": {},
   "outputs": [
    {
     "name": "stdout",
     "output_type": "stream",
     "text": [
      "2881 73\n",
      "2881 61\n"
     ]
    }
   ],
   "source": [
    "# endogenous variables: load from gb \n",
    "# exogenous variables: temperature, rain, radiation, calendar_date, day_of_week, is_holiday\n",
    "\n",
    "from utils.dataset import remove_duplicates_keep_latest\n",
    "print(len(df['Delivery_date'].unique()), len(df['Issue_date'].unique()))\n",
    "df_unique = remove_duplicates_keep_latest(df, group_cols=['Abbreviation', 'Delivery_date'], sort_col='Issue_date')\n",
    "print(len(df_unique['Delivery_date'].unique()), len(df_unique['Issue_date'].unique()))"
   ]
  },
  {
   "cell_type": "code",
   "execution_count": 7,
   "metadata": {},
   "outputs": [],
   "source": [
    "from utils.dataset import append_abbreviation_to_columns\n",
    "# Example columns to update\n",
    "columns_to_update = ['rain {mm/h}', 'temperature {Celsius}', 'relative humidity{%}', 'radiation globale {W/m2}']\n",
    "\n",
    "# Apply the function to the dataframe\n",
    "df_unique_noabbr = append_abbreviation_to_columns(df_unique, columns_to_update)"
   ]
  },
  {
   "cell_type": "code",
   "execution_count": 8,
   "metadata": {},
   "outputs": [
    {
     "name": "stdout",
     "output_type": "stream",
     "text": [
      "2881\n",
      "2881\n"
     ]
    },
    {
     "data": {
      "text/plain": [
       "Index(['Delivery_date', 'ABO rain {mm/h}', 'ABO temperature {Celsius}',\n",
       "       'ABO relative humidity{%}', 'ABO radiation globale {W/m2}',\n",
       "       'PAY rain {mm/h}', 'PAY temperature {Celsius}',\n",
       "       'PAY relative humidity{%}', 'PAY radiation globale {W/m2}'],\n",
       "      dtype='object')"
      ]
     },
     "execution_count": 8,
     "metadata": {},
     "output_type": "execute_result"
    }
   ],
   "source": [
    "print(len(df_unique_noabbr))\n",
    "print(len(df_unique_noabbr['Delivery_date'].unique()))\n",
    "df_unique_noabbr.columns"
   ]
  },
  {
   "cell_type": "code",
   "execution_count": 9,
   "metadata": {},
   "outputs": [],
   "source": [
    "query = f\"\"\"\n",
    "SELECT\n",
    "      [Delivery_date],\n",
    "      [Issue_date],\n",
    "      [Bilan],\n",
    "      [Validation]\n",
    "FROM [PROMART_PRD].[dbo].[t_ML_validation_gb_consumption] \n",
    "WHERE ([Validation] = '100' OR [Validation] = '110')\n",
    "  AND [Delivery_date] BETWEEN '{start_date}' AND '{end_date}'\"\"\"\n",
    "\n",
    "df_load = pd.read_sql_query(query, con=engine)\n",
    "df_load_unique = remove_duplicates_keep_latest(df_load, group_cols=['Delivery_date'], sort_col='Issue_date')\n"
   ]
  },
  {
   "cell_type": "code",
   "execution_count": 10,
   "metadata": {},
   "outputs": [
    {
     "name": "stdout",
     "output_type": "stream",
     "text": [
      "2881\n"
     ]
    }
   ],
   "source": [
    "# Ensure both dataframes are sorted by 'Delivery_date'\n",
    "df_unique_noabbr = df_unique_noabbr.sort_values('Delivery_date')\n",
    "df_load_unique = df_load_unique.sort_values('Delivery_date')\n",
    "\n",
    "# Perform an inner merge to keep only matching 'Delivery_date' rows in both dataframes\n",
    "df_unique_merged = pd.merge(\n",
    "    df_unique_noabbr, \n",
    "    df_load_unique[['Delivery_date', 'Bilan']], \n",
    "    on='Delivery_date', \n",
    "    how='inner'\n",
    ")\n",
    "\n",
    "print(len(df_unique_merged))"
   ]
  },
  {
   "cell_type": "code",
   "execution_count": 11,
   "metadata": {},
   "outputs": [
    {
     "name": "stdout",
     "output_type": "stream",
     "text": [
      "No differences detected for abbreviation ABO in radiation data.\n",
      "No differences detected for abbreviation PAY in radiation data.\n"
     ]
    }
   ],
   "source": [
    "from utils.dataset import detect_diff_data\n",
    "df_unique.set_index('Delivery_date')\n",
    "df_unique_merged.set_index('Delivery_date')\n",
    "\n",
    "detect_diff_data(df_unique, df_unique_merged, ['ABO', 'PAY'], column_name = 'rain {mm/h}')\n"
   ]
  },
  {
   "cell_type": "code",
   "execution_count": 12,
   "metadata": {},
   "outputs": [
    {
     "data": {
      "text/plain": [
       "Index(['Delivery_date', 'ABO rain {mm/h}', 'ABO temperature {Celsius}',\n",
       "       'ABO relative humidity{%}', 'ABO radiation globale {W/m2}',\n",
       "       'PAY rain {mm/h}', 'PAY temperature {Celsius}',\n",
       "       'PAY relative humidity{%}', 'PAY radiation globale {W/m2}', 'Bilan'],\n",
       "      dtype='object')"
      ]
     },
     "execution_count": 12,
     "metadata": {},
     "output_type": "execute_result"
    }
   ],
   "source": [
    "df_unique_merged.columns"
   ]
  },
  {
   "cell_type": "code",
   "execution_count": 13,
   "metadata": {},
   "outputs": [],
   "source": [
    "from utils.dataset import load_sheets_from_cc_auto\n",
    "\n",
    "sheets_to_load = {'FR': 'const_fribourg'}\n",
    "file_path = '/data/www/07_Trading/CourtTerme/Optimisation/Consommation/CourtTerme/dev/opt_cc_auto.xlsm'\n",
    "\n",
    "df_auto_cc = load_sheets_from_cc_auto(file_path, sheets_to_load)"
   ]
  },
  {
   "cell_type": "code",
   "execution_count": 14,
   "metadata": {},
   "outputs": [
    {
     "data": {
      "text/plain": [
       "DatetimeIndex(['2010-01-01', '2010-01-02', '2010-01-03', '2010-01-04',\n",
       "               '2010-01-05', '2010-01-06', '2010-01-07', '2010-01-08',\n",
       "               '2010-01-09', '2010-01-10',\n",
       "               ...\n",
       "               '2025-12-22', '2025-12-23', '2025-12-24', '2025-12-25',\n",
       "               '2025-12-26', '2025-12-27', '2025-12-28', '2025-12-29',\n",
       "               '2025-12-30', '2025-12-31'],\n",
       "              dtype='datetime64[ns]', name='Datum', length=5844, freq=None)"
      ]
     },
     "execution_count": 14,
     "metadata": {},
     "output_type": "execute_result"
    }
   ],
   "source": [
    "df_auto_cc.index"
   ]
  },
  {
   "cell_type": "code",
   "execution_count": 15,
   "metadata": {},
   "outputs": [
    {
     "name": "stdout",
     "output_type": "stream",
     "text": [
      "weather index: 2024-01-01 00:00:00 - 2024-01-31 00:00:00\n",
      "calendar index: 2024-01-01 00:00:00 - 2024-01-31 00:00:00\n"
     ]
    },
    {
     "data": {
      "text/plain": [
       "2881"
      ]
     },
     "execution_count": 15,
     "metadata": {},
     "output_type": "execute_result"
    }
   ],
   "source": [
    "from utils.dataset import append_calendar_data\n",
    "df_unique_merged_cal = append_calendar_data(df_unique_merged, df_auto_cc, '15min')\n",
    "len(df_unique_merged_cal)"
   ]
  },
  {
   "cell_type": "code",
   "execution_count": 21,
   "metadata": {},
   "outputs": [
    {
     "name": "stdout",
     "output_type": "stream",
     "text": [
      "                     ABO rain {mm/h}  ABO temperature {Celsius}  \\\n",
      "Delivery_date                                                     \n",
      "2024-01-01 00:00:00              0.0                        1.0   \n",
      "2024-01-01 00:15:00              0.0                        0.8   \n",
      "2024-01-01 00:30:00              0.0                        0.7   \n",
      "2024-01-01 00:45:00              0.0                        0.5   \n",
      "2024-01-01 01:00:00              0.0                        0.4   \n",
      "...                              ...                        ...   \n",
      "2024-01-30 23:00:00              0.0                        4.6   \n",
      "2024-01-30 23:15:00              0.0                        4.5   \n",
      "2024-01-30 23:30:00              0.0                        4.4   \n",
      "2024-01-30 23:45:00              0.0                        4.4   \n",
      "2024-01-31 00:00:00              0.0                        4.3   \n",
      "\n",
      "                     ABO relative humidity{%}  ABO radiation globale {W/m2}  \\\n",
      "Delivery_date                                                                 \n",
      "2024-01-01 00:00:00                      67.2                           0.0   \n",
      "2024-01-01 00:15:00                      68.1                           0.0   \n",
      "2024-01-01 00:30:00                      69.0                           0.0   \n",
      "2024-01-01 00:45:00                      69.8                           0.0   \n",
      "2024-01-01 01:00:00                      70.7                           0.0   \n",
      "...                                       ...                           ...   \n",
      "2024-01-30 23:00:00                      61.1                           0.0   \n",
      "2024-01-30 23:15:00                      60.8                           0.0   \n",
      "2024-01-30 23:30:00                      60.6                           0.0   \n",
      "2024-01-30 23:45:00                      60.3                           0.0   \n",
      "2024-01-31 00:00:00                      52.7                           0.0   \n",
      "\n",
      "                     PAY rain {mm/h}  PAY temperature {Celsius}  \\\n",
      "Delivery_date                                                     \n",
      "2024-01-01 00:00:00              0.0                        3.9   \n",
      "2024-01-01 00:15:00              0.0                        4.1   \n",
      "2024-01-01 00:30:00              0.0                        4.3   \n",
      "2024-01-01 00:45:00              0.0                        4.4   \n",
      "2024-01-01 01:00:00              0.0                        4.6   \n",
      "...                              ...                        ...   \n",
      "2024-01-30 23:00:00              0.0                        2.4   \n",
      "2024-01-30 23:15:00              0.0                        2.3   \n",
      "2024-01-30 23:30:00              0.0                        2.2   \n",
      "2024-01-30 23:45:00              0.0                        2.1   \n",
      "2024-01-31 00:00:00              0.0                        1.2   \n",
      "\n",
      "                     PAY relative humidity{%}  PAY radiation globale {W/m2}  \\\n",
      "Delivery_date                                                                 \n",
      "2024-01-01 00:00:00                      88.7                           0.0   \n",
      "2024-01-01 00:15:00                      87.6                           0.0   \n",
      "2024-01-01 00:30:00                      86.5                           0.0   \n",
      "2024-01-01 00:45:00                      85.5                           0.0   \n",
      "2024-01-01 01:00:00                      84.4                           0.0   \n",
      "...                                       ...                           ...   \n",
      "2024-01-30 23:00:00                      83.6                           0.0   \n",
      "2024-01-30 23:15:00                      83.9                           0.0   \n",
      "2024-01-30 23:30:00                      84.2                           0.0   \n",
      "2024-01-30 23:45:00                      84.5                           0.0   \n",
      "2024-01-31 00:00:00                      91.7                           0.0   \n",
      "\n",
      "                          Bilan  FR: Sa  FR: SoF  FR: Brückentag  \\\n",
      "Delivery_date                                                      \n",
      "2024-01-01 00:00:00  272.947880     0.0      1.0             0.0   \n",
      "2024-01-01 00:15:00  316.381759     0.0      1.0             0.0   \n",
      "2024-01-01 00:30:00  313.623297     0.0      1.0             0.0   \n",
      "2024-01-01 00:45:00  303.233943     0.0      1.0             0.0   \n",
      "2024-01-01 01:00:00  290.981480     0.0      1.0             0.0   \n",
      "...                         ...     ...      ...             ...   \n",
      "2024-01-30 23:00:00  302.265471     0.0      0.0             0.0   \n",
      "2024-01-30 23:15:00  312.637121     0.0      0.0             0.0   \n",
      "2024-01-30 23:30:00  314.138688     0.0      0.0             0.0   \n",
      "2024-01-30 23:45:00  306.781919     0.0      0.0             0.0   \n",
      "2024-01-31 00:00:00  296.717514     0.0      0.0             0.0   \n",
      "\n",
      "                     FR: Feiertag  FR: Ferien-Shopping  FR: Ferien-Firmen  \\\n",
      "Delivery_date                                                               \n",
      "2024-01-01 00:00:00           1.0                  1.0                1.0   \n",
      "2024-01-01 00:15:00           1.0                  1.0                1.0   \n",
      "2024-01-01 00:30:00           1.0                  1.0                1.0   \n",
      "2024-01-01 00:45:00           1.0                  1.0                1.0   \n",
      "2024-01-01 01:00:00           1.0                  1.0                1.0   \n",
      "...                           ...                  ...                ...   \n",
      "2024-01-30 23:00:00           0.0                  0.0                0.0   \n",
      "2024-01-30 23:15:00           0.0                  0.0                0.0   \n",
      "2024-01-30 23:30:00           0.0                  0.0                0.0   \n",
      "2024-01-30 23:45:00           0.0                  0.0                0.0   \n",
      "2024-01-31 00:00:00           0.0                  0.0                0.0   \n",
      "\n",
      "                     Sommerzeit  Tage vom 21.Juni  \n",
      "Delivery_date                                      \n",
      "2024-01-01 00:00:00         0.0             172.0  \n",
      "2024-01-01 00:15:00         0.0             172.0  \n",
      "2024-01-01 00:30:00         0.0             172.0  \n",
      "2024-01-01 00:45:00         0.0             172.0  \n",
      "2024-01-01 01:00:00         0.0             172.0  \n",
      "...                         ...               ...  \n",
      "2024-01-30 23:00:00         0.0             143.0  \n",
      "2024-01-30 23:15:00         0.0             143.0  \n",
      "2024-01-30 23:30:00         0.0             143.0  \n",
      "2024-01-30 23:45:00         0.0             143.0  \n",
      "2024-01-31 00:00:00         0.0             142.0  \n",
      "\n",
      "[2881 rows x 17 columns]\n"
     ]
    }
   ],
   "source": [
    "from utils.dataset import resample_data\n",
    "\n",
    "df_unique_merged_cal_resampled = resample_data(df_unique_merged_cal, '15min')\n",
    "print(df_unique_merged_cal_resampled)"
   ]
  },
  {
   "cell_type": "code",
   "execution_count": 24,
   "metadata": {},
   "outputs": [],
   "source": [
    "# Save data to csv\n",
    "from utils.dataset import save_to_csv\n",
    "save_to_csv(df_unique_merged_cal_resampled, 'dataset/custom/test.csv')\n",
    "\n"
   ]
  }
 ],
 "metadata": {
  "kernelspec": {
   "display_name": "venv_TimeXer",
   "language": "python",
   "name": "python3"
  },
  "language_info": {
   "codemirror_mode": {
    "name": "ipython",
    "version": 3
   },
   "file_extension": ".py",
   "mimetype": "text/x-python",
   "name": "python",
   "nbconvert_exporter": "python",
   "pygments_lexer": "ipython3",
   "version": "3.10.12"
  }
 },
 "nbformat": 4,
 "nbformat_minor": 2
}
