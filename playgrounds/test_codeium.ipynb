{
 "cells": [
  {
   "cell_type": "code",
   "execution_count": null,
   "metadata": {},
   "outputs": [],
   "source": [
    "def forecast(self, x_enc, x_mark_enc, x_dec, x_mark_dec):\n",
    "    if self.use_norm:\n",
    "        # Normalization from Non-stationary Transformer\n",
    "        means = x_enc.mean(1, keepdim=True).detach()\n",
    "        x_enc = x_enc - means\n",
    "        stdev = torch.sqrt(torch.var(x_enc, dim=1, keepdim=True, unbiased=False) + 1e-5)\n",
    "        x_enc /= stdev\n",
    "\n",
    "    _, _, N = x_enc.shape\n",
    "\n",
    "    en_embed, n_vars = self.en_embedding(x_enc[:, :, -1].unsqueeze(-1).permute(0, 2, 1)) # pass target only for embedding\n",
    "    ex_embed = self.ex_embedding(x_enc[:, :, :-1], x_mark_enc) # pass other variables for embedding, with time information\n",
    "\n",
    "    enc_out = self.encoder(en_embed, ex_embed)\n",
    "    enc_out = torch.reshape(\n",
    "        enc_out, (-1, n_vars, enc_out.shape[-2], enc_out.shape[-1]))\n",
    "    # z: [bs x nvars x d_model x patch_num]\n",
    "    enc_out = enc_out.permute(0, 1, 3, 2)\n",
    "\n",
    "    dec_out = self.head(enc_out)  # z: [bs x nvars x target_window]\n",
    "    dec_out = dec_out.permute(0, 2, 1)\n",
    "\n",
    "    if self.use_norm:\n",
    "        # De-Normalization from Non-stationary Transformer\n",
    "        dec_out = dec_out * (stdev[:, 0, -1:].unsqueeze(1).repeat(1, self.pred_len, 1))\n",
    "        dec_out = dec_out + (means[:, 0, -1:].unsqueeze(1).repeat(1, self.pred_len, 1))\n",
    "\n",
    "    return dec_out\n"
   ]
  }
 ],
 "metadata": {
  "kernelspec": {
   "display_name": "venv_TimeXer",
   "language": "python",
   "name": "python3"
  },
  "language_info": {
   "name": "python",
   "version": "3.10.12"
  }
 },
 "nbformat": 4,
 "nbformat_minor": 2
}
