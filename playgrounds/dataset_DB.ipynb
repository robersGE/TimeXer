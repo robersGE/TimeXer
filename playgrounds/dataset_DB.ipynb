{
 "cells": [
  {
   "cell_type": "code",
   "execution_count": 1,
   "metadata": {},
   "outputs": [],
   "source": [
    "import os \n",
    "import sys \n",
    "\n",
    "sys.path.append('/mnt/data/robers/projects/TimeXer')\n",
    "os.chdir('/mnt/data/robers/projects/TimeXer')"
   ]
  },
  {
   "cell_type": "code",
   "execution_count": null,
   "metadata": {},
   "outputs": [],
   "source": [
    "from utils.src.functions_sql import connectionSQL\n",
    "\n",
    "engine = connectionSQL('TimeXer')"
   ]
  }
 ],
 "metadata": {
  "kernelspec": {
   "display_name": "venv_timeXer",
   "language": "python",
   "name": "python3"
  },
  "language_info": {
   "codemirror_mode": {
    "name": "ipython",
    "version": 3
   },
   "file_extension": ".py",
   "mimetype": "text/x-python",
   "name": "python",
   "nbconvert_exporter": "python",
   "pygments_lexer": "ipython3",
   "version": "3.10.16"
  }
 },
 "nbformat": 4,
 "nbformat_minor": 2
}
